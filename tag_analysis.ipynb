{
 "cells": [
  {
   "cell_type": "markdown",
   "metadata": {},
   "source": [
    "# science fiction \n",
    "\n",
    "## tags"
   ]
  },
  {
   "cell_type": "code",
   "execution_count": 137,
   "metadata": {},
   "outputs": [],
   "source": [
    "#https://meta.stackexchange.com/questions/2677/database-schema-documentation-for-the-public-data-dump-and-sede\n",
    "\n",
    "import googlemaps, os.path\n",
    "import pandas as pd\n",
    "import numpy as np\n",
    "import matplotlib.pyplot as plt\n",
    "from datetime import datetime"
   ]
  },
  {
   "cell_type": "code",
   "execution_count": 149,
   "metadata": {},
   "outputs": [],
   "source": [
    "users = pd.read_csv(os.path.join(\"data\",\"scifi.stackexchange.com\", \"Users.csv\"))\n",
    "tags = pd.read_csv(os.path.join(\"data\",\"scifi.stackexchange.com\", \"Tags.csv\"))\n",
    "posts = pd.read_csv(os.path.join(\"data\",\"scifi.stackexchange.com\", \"Posts.csv\"))"
   ]
  },
  {
   "cell_type": "code",
   "execution_count": 34,
   "metadata": {},
   "outputs": [
    {
     "data": {
      "text/html": [
       "<div>\n",
       "<style scoped>\n",
       "    .dataframe tbody tr th:only-of-type {\n",
       "        vertical-align: middle;\n",
       "    }\n",
       "\n",
       "    .dataframe tbody tr th {\n",
       "        vertical-align: top;\n",
       "    }\n",
       "\n",
       "    .dataframe thead th {\n",
       "        text-align: right;\n",
       "    }\n",
       "</style>\n",
       "<table border=\"1\" class=\"dataframe\">\n",
       "  <thead>\n",
       "    <tr style=\"text-align: right;\">\n",
       "      <th></th>\n",
       "      <th>Unnamed: 0</th>\n",
       "      <th>Count</th>\n",
       "      <th>ExcerptPostId</th>\n",
       "      <th>Id</th>\n",
       "      <th>TagName</th>\n",
       "      <th>WikiPostId</th>\n",
       "    </tr>\n",
       "  </thead>\n",
       "  <tbody>\n",
       "    <tr>\n",
       "      <th>0</th>\n",
       "      <td>47</td>\n",
       "      <td>12565</td>\n",
       "      <td>1811.0</td>\n",
       "      <td>130</td>\n",
       "      <td>story-identification</td>\n",
       "      <td>1810.0</td>\n",
       "    </tr>\n",
       "    <tr>\n",
       "      <th>1</th>\n",
       "      <td>168</td>\n",
       "      <td>5694</td>\n",
       "      <td>2679.0</td>\n",
       "      <td>533</td>\n",
       "      <td>harry-potter</td>\n",
       "      <td>2678.0</td>\n",
       "    </tr>\n",
       "    <tr>\n",
       "      <th>2</th>\n",
       "      <td>21</td>\n",
       "      <td>5305</td>\n",
       "      <td>1970.0</td>\n",
       "      <td>44</td>\n",
       "      <td>star-wars</td>\n",
       "      <td>1969.0</td>\n",
       "    </tr>\n",
       "    <tr>\n",
       "      <th>3</th>\n",
       "      <td>2</td>\n",
       "      <td>4319</td>\n",
       "      <td>1776.0</td>\n",
       "      <td>10</td>\n",
       "      <td>star-trek</td>\n",
       "      <td>1775.0</td>\n",
       "    </tr>\n",
       "    <tr>\n",
       "      <th>4</th>\n",
       "      <td>225</td>\n",
       "      <td>3352</td>\n",
       "      <td>4872.0</td>\n",
       "      <td>695</td>\n",
       "      <td>marvel</td>\n",
       "      <td>4871.0</td>\n",
       "    </tr>\n",
       "    <tr>\n",
       "      <th>5</th>\n",
       "      <td>2251</td>\n",
       "      <td>2554</td>\n",
       "      <td>154468.0</td>\n",
       "      <td>5411</td>\n",
       "      <td>tolkiens-legendarium</td>\n",
       "      <td>154467.0</td>\n",
       "    </tr>\n",
       "    <tr>\n",
       "      <th>6</th>\n",
       "      <td>42</td>\n",
       "      <td>2403</td>\n",
       "      <td>3092.0</td>\n",
       "      <td>118</td>\n",
       "      <td>short-stories</td>\n",
       "      <td>3091.0</td>\n",
       "    </tr>\n",
       "    <tr>\n",
       "      <th>7</th>\n",
       "      <td>249</td>\n",
       "      <td>2008</td>\n",
       "      <td>4953.0</td>\n",
       "      <td>769</td>\n",
       "      <td>dc</td>\n",
       "      <td>4952.0</td>\n",
       "    </tr>\n",
       "    <tr>\n",
       "      <th>8</th>\n",
       "      <td>113</td>\n",
       "      <td>1759</td>\n",
       "      <td>2381.0</td>\n",
       "      <td>380</td>\n",
       "      <td>the-lord-of-the-rings</td>\n",
       "      <td>2380.0</td>\n",
       "    </tr>\n",
       "    <tr>\n",
       "      <th>9</th>\n",
       "      <td>991</td>\n",
       "      <td>1590</td>\n",
       "      <td>43198.0</td>\n",
       "      <td>2245</td>\n",
       "      <td>marvel-cinematic-universe</td>\n",
       "      <td>43197.0</td>\n",
       "    </tr>\n",
       "    <tr>\n",
       "      <th>10</th>\n",
       "      <td>228</td>\n",
       "      <td>1551</td>\n",
       "      <td>3772.0</td>\n",
       "      <td>703</td>\n",
       "      <td>movie</td>\n",
       "      <td>3771.0</td>\n",
       "    </tr>\n",
       "    <tr>\n",
       "      <th>11</th>\n",
       "      <td>40</td>\n",
       "      <td>1375</td>\n",
       "      <td>2461.0</td>\n",
       "      <td>112</td>\n",
       "      <td>doctor-who</td>\n",
       "      <td>2460.0</td>\n",
       "    </tr>\n",
       "    <tr>\n",
       "      <th>12</th>\n",
       "      <td>32</td>\n",
       "      <td>1335</td>\n",
       "      <td>2144.0</td>\n",
       "      <td>87</td>\n",
       "      <td>star-trek-tng</td>\n",
       "      <td>2143.0</td>\n",
       "    </tr>\n",
       "    <tr>\n",
       "      <th>13</th>\n",
       "      <td>130</td>\n",
       "      <td>1327</td>\n",
       "      <td>4943.0</td>\n",
       "      <td>424</td>\n",
       "      <td>novel</td>\n",
       "      <td>4942.0</td>\n",
       "    </tr>\n",
       "    <tr>\n",
       "      <th>14</th>\n",
       "      <td>184</td>\n",
       "      <td>1299</td>\n",
       "      <td>3600.0</td>\n",
       "      <td>590</td>\n",
       "      <td>game-of-thrones</td>\n",
       "      <td>3599.0</td>\n",
       "    </tr>\n",
       "    <tr>\n",
       "      <th>15</th>\n",
       "      <td>33</td>\n",
       "      <td>1229</td>\n",
       "      <td>2554.0</td>\n",
       "      <td>89</td>\n",
       "      <td>books</td>\n",
       "      <td>2553.0</td>\n",
       "    </tr>\n",
       "  </tbody>\n",
       "</table>\n",
       "</div>"
      ],
      "text/plain": [
       "    Unnamed: 0  Count  ExcerptPostId    Id                    TagName  \\\n",
       "0           47  12565         1811.0   130       story-identification   \n",
       "1          168   5694         2679.0   533               harry-potter   \n",
       "2           21   5305         1970.0    44                  star-wars   \n",
       "3            2   4319         1776.0    10                  star-trek   \n",
       "4          225   3352         4872.0   695                     marvel   \n",
       "5         2251   2554       154468.0  5411       tolkiens-legendarium   \n",
       "6           42   2403         3092.0   118              short-stories   \n",
       "7          249   2008         4953.0   769                         dc   \n",
       "8          113   1759         2381.0   380      the-lord-of-the-rings   \n",
       "9          991   1590        43198.0  2245  marvel-cinematic-universe   \n",
       "10         228   1551         3772.0   703                      movie   \n",
       "11          40   1375         2461.0   112                 doctor-who   \n",
       "12          32   1335         2144.0    87              star-trek-tng   \n",
       "13         130   1327         4943.0   424                      novel   \n",
       "14         184   1299         3600.0   590            game-of-thrones   \n",
       "15          33   1229         2554.0    89                      books   \n",
       "\n",
       "    WikiPostId  \n",
       "0       1810.0  \n",
       "1       2678.0  \n",
       "2       1969.0  \n",
       "3       1775.0  \n",
       "4       4871.0  \n",
       "5     154467.0  \n",
       "6       3091.0  \n",
       "7       4952.0  \n",
       "8       2380.0  \n",
       "9      43197.0  \n",
       "10      3771.0  \n",
       "11      2460.0  \n",
       "12      2143.0  \n",
       "13      4942.0  \n",
       "14      3599.0  \n",
       "15      2553.0  "
      ]
     },
     "execution_count": 34,
     "metadata": {},
     "output_type": "execute_result"
    }
   ],
   "source": [
    "popular_tags = tags.sort_values(\"Count\", ascending = False).head(16).reset_index(drop = True)\n",
    "popular_tags"
   ]
  },
  {
   "cell_type": "code",
   "execution_count": 14,
   "metadata": {},
   "outputs": [
    {
     "data": {
      "text/plain": [
       "114159"
      ]
     },
     "execution_count": 14,
     "metadata": {},
     "output_type": "execute_result"
    }
   ],
   "source": [
    "tags.Count.sum()"
   ]
  },
  {
   "cell_type": "markdown",
   "metadata": {},
   "source": [
    "Każdy z 16 tagów powyżej stanowi co najmniej 1% wszystkich wystąpień (114159)."
   ]
  },
  {
   "cell_type": "code",
   "execution_count": 50,
   "metadata": {},
   "outputs": [
    {
     "data": {
      "image/png": "[encoded data removed]",
      "text/plain": [
       "<Figure size 432x288 with 1 Axes>"
      ]
     },
     "metadata": {},
     "output_type": "display_data"
    }
   ],
   "source": [
    "%matplotlib inline\n",
    "\n",
    "patches, texts = plt.pie(popular_tags.Count, shadow=True, startangle=90)\n",
    "plt.legend(patches, labels=popular_tags.TagName, bbox_to_anchor=(1.5,0.5), loc=\"center right\")\n",
    "\n",
    "plt.axis('equal')\n",
    "plt.show()"
   ]
  },
  {
   "cell_type": "code",
   "execution_count": 70,
   "metadata": {},
   "outputs": [
    {
     "data": {
      "text/plain": [
       "43.505111292145166"
      ]
     },
     "execution_count": 70,
     "metadata": {},
     "output_type": "execute_result"
    }
   ],
   "source": [
    "popular_tags.Count.sum() * 100 / tags.Count.sum() # 43% "
   ]
  },
  {
   "cell_type": "code",
   "execution_count": 75,
   "metadata": {},
   "outputs": [
    {
     "data": {
      "text/plain": [
       "0.5538248528902735"
      ]
     },
     "execution_count": 75,
     "metadata": {},
     "output_type": "execute_result"
    }
   ],
   "source": [
    "popular_tags.shape[0] * 100 / tags.shape[0] # 0.5%"
   ]
  },
  {
   "cell_type": "markdown",
   "metadata": {},
   "source": [
    "Top 3 pytania z tagiem *story-identification*."
   ]
  },
  {
   "cell_type": "code",
   "execution_count": 76,
   "metadata": {},
   "outputs": [
    {
     "data": {
      "text/html": [
       "<div>\n",
       "<style scoped>\n",
       "    .dataframe tbody tr th:only-of-type {\n",
       "        vertical-align: middle;\n",
       "    }\n",
       "\n",
       "    .dataframe tbody tr th {\n",
       "        vertical-align: top;\n",
       "    }\n",
       "\n",
       "    .dataframe thead th {\n",
       "        text-align: right;\n",
       "    }\n",
       "</style>\n",
       "<table border=\"1\" class=\"dataframe\">\n",
       "  <thead>\n",
       "    <tr style=\"text-align: right;\">\n",
       "      <th></th>\n",
       "      <th>Unnamed: 0</th>\n",
       "      <th>AcceptedAnswerId</th>\n",
       "      <th>AnswerCount</th>\n",
       "      <th>Body</th>\n",
       "      <th>ClosedDate</th>\n",
       "      <th>CommentCount</th>\n",
       "      <th>CommunityOwnedDate</th>\n",
       "      <th>CreationDate</th>\n",
       "      <th>FavoriteCount</th>\n",
       "      <th>Id</th>\n",
       "      <th>...</th>\n",
       "      <th>LastEditorDisplayName</th>\n",
       "      <th>LastEditorUserId</th>\n",
       "      <th>OwnerDisplayName</th>\n",
       "      <th>OwnerUserId</th>\n",
       "      <th>ParentId</th>\n",
       "      <th>PostTypeId</th>\n",
       "      <th>Score</th>\n",
       "      <th>Tags</th>\n",
       "      <th>Title</th>\n",
       "      <th>ViewCount</th>\n",
       "    </tr>\n",
       "  </thead>\n",
       "  <tbody>\n",
       "    <tr>\n",
       "      <th>0</th>\n",
       "      <td>0</td>\n",
       "      <td>NaN</td>\n",
       "      <td>8.0</td>\n",
       "      <td>&lt;p&gt;I've got &lt;a href=\"http://rads.stackoverflow...</td>\n",
       "      <td>2011-01-20T16:28:59.467</td>\n",
       "      <td>6</td>\n",
       "      <td>2011-01-11T20:54:27.723</td>\n",
       "      <td>2011-01-11T20:45:08.070</td>\n",
       "      <td>3.0</td>\n",
       "      <td>1</td>\n",
       "      <td>...</td>\n",
       "      <td>NaN</td>\n",
       "      <td>100.0</td>\n",
       "      <td>NaN</td>\n",
       "      <td>10.0</td>\n",
       "      <td>NaN</td>\n",
       "      <td>1</td>\n",
       "      <td>16</td>\n",
       "      <td>&lt;novel&gt;&lt;languages&gt;</td>\n",
       "      <td>What science fiction novels have well develope...</td>\n",
       "      <td>2281.0</td>\n",
       "    </tr>\n",
       "    <tr>\n",
       "      <th>1</th>\n",
       "      <td>1</td>\n",
       "      <td>232.0</td>\n",
       "      <td>1.0</td>\n",
       "      <td>&lt;p&gt;In Lois McMaster Bujold's &lt;em&gt;Barrayar&lt;/em&gt;...</td>\n",
       "      <td>NaN</td>\n",
       "      <td>2</td>\n",
       "      <td>NaN</td>\n",
       "      <td>2011-01-11T20:47:13.640</td>\n",
       "      <td>NaN</td>\n",
       "      <td>2</td>\n",
       "      <td>...</td>\n",
       "      <td>NaN</td>\n",
       "      <td>70236.0</td>\n",
       "      <td>NaN</td>\n",
       "      <td>27.0</td>\n",
       "      <td>NaN</td>\n",
       "      <td>1</td>\n",
       "      <td>18</td>\n",
       "      <td>&lt;vorkosigan-saga&gt;</td>\n",
       "      <td>What other celestial bodies are in Barrayar's ...</td>\n",
       "      <td>505.0</td>\n",
       "    </tr>\n",
       "    <tr>\n",
       "      <th>2</th>\n",
       "      <td>2</td>\n",
       "      <td>2775.0</td>\n",
       "      <td>1.0</td>\n",
       "      <td>&lt;p&gt;The plot of the TV series Total Recall 2070...</td>\n",
       "      <td>NaN</td>\n",
       "      <td>5</td>\n",
       "      <td>NaN</td>\n",
       "      <td>2011-01-11T20:49:52.980</td>\n",
       "      <td>4.0</td>\n",
       "      <td>3</td>\n",
       "      <td>...</td>\n",
       "      <td>NaN</td>\n",
       "      <td>770.0</td>\n",
       "      <td>NaN</td>\n",
       "      <td>35.0</td>\n",
       "      <td>NaN</td>\n",
       "      <td>1</td>\n",
       "      <td>20</td>\n",
       "      <td>&lt;total-recall-2070&gt;</td>\n",
       "      <td>Other than Alpha and Delta, were there any oth...</td>\n",
       "      <td>487.0</td>\n",
       "    </tr>\n",
       "    <tr>\n",
       "      <th>3</th>\n",
       "      <td>3</td>\n",
       "      <td>NaN</td>\n",
       "      <td>NaN</td>\n",
       "      <td>&lt;p&gt;I guess that depends on your definition of ...</td>\n",
       "      <td>NaN</td>\n",
       "      <td>4</td>\n",
       "      <td>2011-01-11T20:54:27.723</td>\n",
       "      <td>2011-01-11T20:50:49.627</td>\n",
       "      <td>NaN</td>\n",
       "      <td>4</td>\n",
       "      <td>...</td>\n",
       "      <td>NaN</td>\n",
       "      <td>NaN</td>\n",
       "      <td>NaN</td>\n",
       "      <td>31.0</td>\n",
       "      <td>1.0</td>\n",
       "      <td>2</td>\n",
       "      <td>11</td>\n",
       "      <td>NaN</td>\n",
       "      <td>NaN</td>\n",
       "      <td>NaN</td>\n",
       "    </tr>\n",
       "    <tr>\n",
       "      <th>4</th>\n",
       "      <td>4</td>\n",
       "      <td>NaN</td>\n",
       "      <td>NaN</td>\n",
       "      <td>&lt;p&gt;I'm not sure of a book specifically that's ...</td>\n",
       "      <td>NaN</td>\n",
       "      <td>1</td>\n",
       "      <td>2011-01-11T20:54:27.723</td>\n",
       "      <td>2011-01-11T20:52:46.753</td>\n",
       "      <td>NaN</td>\n",
       "      <td>5</td>\n",
       "      <td>...</td>\n",
       "      <td>NaN</td>\n",
       "      <td>NaN</td>\n",
       "      <td>NaN</td>\n",
       "      <td>39.0</td>\n",
       "      <td>1.0</td>\n",
       "      <td>2</td>\n",
       "      <td>4</td>\n",
       "      <td>NaN</td>\n",
       "      <td>NaN</td>\n",
       "      <td>NaN</td>\n",
       "    </tr>\n",
       "  </tbody>\n",
       "</table>\n",
       "<p>5 rows × 22 columns</p>\n",
       "</div>"
      ],
      "text/plain": [
       "   Unnamed: 0  AcceptedAnswerId  AnswerCount  \\\n",
       "0           0               NaN          8.0   \n",
       "1           1             232.0          1.0   \n",
       "2           2            2775.0          1.0   \n",
       "3           3               NaN          NaN   \n",
       "4           4               NaN          NaN   \n",
       "\n",
       "                                                Body               ClosedDate  \\\n",
       "0  <p>I've got <a href=\"http://rads.stackoverflow...  2011-01-20T16:28:59.467   \n",
       "1  <p>In Lois McMaster Bujold's <em>Barrayar</em>...                      NaN   \n",
       "2  <p>The plot of the TV series Total Recall 2070...                      NaN   \n",
       "3  <p>I guess that depends on your definition of ...                      NaN   \n",
       "4  <p>I'm not sure of a book specifically that's ...                      NaN   \n",
       "\n",
       "   CommentCount       CommunityOwnedDate             CreationDate  \\\n",
       "0             6  2011-01-11T20:54:27.723  2011-01-11T20:45:08.070   \n",
       "1             2                      NaN  2011-01-11T20:47:13.640   \n",
       "2             5                      NaN  2011-01-11T20:49:52.980   \n",
       "3             4  2011-01-11T20:54:27.723  2011-01-11T20:50:49.627   \n",
       "4             1  2011-01-11T20:54:27.723  2011-01-11T20:52:46.753   \n",
       "\n",
       "   FavoriteCount  Id    ...    LastEditorDisplayName LastEditorUserId  \\\n",
       "0            3.0   1    ...                      NaN            100.0   \n",
       "1            NaN   2    ...                      NaN          70236.0   \n",
       "2            4.0   3    ...                      NaN            770.0   \n",
       "3            NaN   4    ...                      NaN              NaN   \n",
       "4            NaN   5    ...                      NaN              NaN   \n",
       "\n",
       "  OwnerDisplayName  OwnerUserId ParentId  PostTypeId  Score  \\\n",
       "0              NaN         10.0      NaN           1     16   \n",
       "1              NaN         27.0      NaN           1     18   \n",
       "2              NaN         35.0      NaN           1     20   \n",
       "3              NaN         31.0      1.0           2     11   \n",
       "4              NaN         39.0      1.0           2      4   \n",
       "\n",
       "                  Tags                                              Title  \\\n",
       "0   <novel><languages>  What science fiction novels have well develope...   \n",
       "1    <vorkosigan-saga>  What other celestial bodies are in Barrayar's ...   \n",
       "2  <total-recall-2070>  Other than Alpha and Delta, were there any oth...   \n",
       "3                  NaN                                                NaN   \n",
       "4                  NaN                                                NaN   \n",
       "\n",
       "  ViewCount  \n",
       "0    2281.0  \n",
       "1     505.0  \n",
       "2     487.0  \n",
       "3       NaN  \n",
       "4       NaN  \n",
       "\n",
       "[5 rows x 22 columns]"
      ]
     },
     "execution_count": 76,
     "metadata": {},
     "output_type": "execute_result"
    }
   ],
   "source": [
    "posts.head()"
   ]
  },
  {
   "cell_type": "code",
   "execution_count": 107,
   "metadata": {},
   "outputs": [
    {
     "data": {
      "text/plain": [
       "6138      Story where scientist communicates with cities...\n",
       "127304    Story about humanity realizing they are in a s...\n",
       "1756               Story where the number 3 is the monster?\n",
       "Name: Title, dtype: object"
      ]
     },
     "execution_count": 107,
     "metadata": {},
     "output_type": "execute_result"
    }
   ],
   "source": [
    "Tags_list = posts.Tags.str.split(\"><\")\n",
    "\n",
    "Tags_list = Tags_list.map(lambda x: [tag.replace(\"<\", \"\").replace(\">\", \"\") for tag in x], na_action='ignore')\n",
    "Tags_list.head()\n",
    "\n",
    "sf_story_index = posts.loc[:,\"Tags\"].str.contains(\"story-identification\").rename(\"story_identification\")\\\n",
    ".reset_index().query(\"story_identification == True\").loc[:,\"index\"]\n",
    "\n",
    "Tags_story_identification = Tags_list.loc[sf_story_index]\n",
    "posts.loc[sf_story_index,].query(\"PostTypeId == 1\").sort_values(\"FavoriteCount\", ascending = False).Title.head(3)"
   ]
  },
  {
   "cell_type": "code",
   "execution_count": 108,
   "metadata": {},
   "outputs": [
    {
     "data": {
      "text/plain": [
       "1756              Story where the number 3 is the monster?\n",
       "6138     Story where scientist communicates with cities...\n",
       "30833    Boy transported to another planet where the be...\n",
       "Name: Title, dtype: object"
      ]
     },
     "execution_count": 108,
     "metadata": {},
     "output_type": "execute_result"
    }
   ],
   "source": [
    "posts.loc[sf_story_index,].query(\"PostTypeId == 1\").sort_values(\"Score\", ascending = False).Title.head(3)\n",
    "\n",
    "# Story where the number 3 is the monster? - answered"
   ]
  },
  {
   "cell_type": "code",
   "execution_count": 133,
   "metadata": {},
   "outputs": [
    {
     "data": {
      "text/plain": [
       "'Story where scientist communicates with cities directly'"
      ]
     },
     "execution_count": 133,
     "metadata": {},
     "output_type": "execute_result"
    }
   ],
   "source": [
    "posts.loc[(posts[\"PostTypeId\"] == 1) & np.isnan(posts[\"AcceptedAnswerId\"]),:]\\\n",
    ".sort_values(\"FavoriteCount\", ascending = False).Title.iloc[0]\n"
   ]
  },
  {
   "cell_type": "code",
   "execution_count": 163,
   "metadata": {},
   "outputs": [],
   "source": [
    "starwars_index = posts.loc[:,\"Tags\"].str.contains(\"star-wars\").rename(\"starwars\")\\\n",
    ".reset_index().query(\"starwars == True\").loc[:,\"index\"]"
   ]
  },
  {
   "cell_type": "code",
   "execution_count": 150,
   "metadata": {},
   "outputs": [],
   "source": [
    "posts.loc[:,\"CreationDate\"] = [datetime.strptime(x[0:10], '%Y-%m-%d') for x in posts.loc[:,\"CreationDate\"]]"
   ]
  },
  {
   "cell_type": "code",
   "execution_count": 153,
   "metadata": {},
   "outputs": [],
   "source": [
    "starwars_posts_count = posts.loc[starwars_index,:]\\\n",
    ".groupby(pd.Grouper(key='CreationDate', freq='1M')).size() "
   ]
  },
  {
   "cell_type": "code",
   "execution_count": 161,
   "metadata": {},
   "outputs": [
    {
     "data": {
      "image/png": "[encoded data removed]",
      "text/plain": [
       "<Figure size 432x288 with 1 Axes>"
      ]
     },
     "metadata": {
      "needs_background": "light"
     },
     "output_type": "display_data"
    }
   ],
   "source": [
    "plt.plot(starwars_posts_count)\n",
    "plt.show()\n"
   ]
  },
  {
   "cell_type": "markdown",
   "metadata": {},
   "source": [
    "Coś widać :P jak wchodzą do kin, to więcej postów - nie zaskakujące, ale zawsze coś"
   ]
  },
  {
   "cell_type": "code",
   "execution_count": 175,
   "metadata": {},
   "outputs": [
    {
     "data": {
      "image/png": "[encoded data removed]",
      "text/plain": [
       "<Figure size 432x288 with 1 Axes>"
      ]
     },
     "metadata": {
      "needs_background": "light"
     },
     "output_type": "display_data"
    }
   ],
   "source": [
    "marvel_index = posts.loc[:,\"Tags\"].str.contains(\"marvel\").rename(\"marvel\")\\\n",
    ".reset_index().query(\"marvel == True\").loc[:,\"index\"]\n",
    "\n",
    "marvel_posts_count = posts.loc[marvel_index,:]\\\n",
    ".groupby(pd.Grouper(key='CreationDate', freq='1M')).size()\n",
    "\n",
    "potter_index = posts.loc[:,\"Tags\"].str.contains(\"harry-potter\").rename(\"potter\")\\\n",
    ".reset_index().query(\"potter == True\").loc[:,\"index\"]\n",
    "\n",
    "potter_posts_count = posts.loc[potter_index,:]\\\n",
    ".groupby(pd.Grouper(key='CreationDate', freq='1M')).size()\n",
    "\n",
    "startrek_index = posts.loc[:,\"Tags\"].str.contains(\"star-trek\").rename(\"startrek\")\\\n",
    ".reset_index().query(\"startrek == True\").loc[:,\"index\"]\n",
    "\n",
    "startrek_posts_count = posts.loc[startrek_index,:]\\\n",
    ".groupby(pd.Grouper(key='CreationDate', freq='1M')).size()\n",
    "\n",
    "#plt.plot(starwars_posts_count, label = \"star-wars\")\n",
    "#plt.plot(startrek_posts_count, label = \"star-trek\")\n",
    "plt.plot(marvel_posts_count, label = \"marvel\")\n",
    "plt.plot(potter_posts_count, label = \"harry-potter\")\n",
    "\n",
    "plt.legend()\n",
    "plt.show()"
   ]
  },
  {
   "cell_type": "markdown",
   "metadata": {},
   "source": [
    "no chyba nic ciekawego nie wynika;  \n",
    "można odkomentować wyżej pozostałe linie"
   ]
  },
  {
   "cell_type": "code",
   "execution_count": null,
   "metadata": {},
   "outputs": [],
   "source": []
  }
 ],
 "metadata": {
  "kernelspec": {
   "display_name": "Python 3",
   "language": "python",
   "name": "python3"
  },
  "language_info": {
   "codemirror_mode": {
    "name": "ipython",
    "version": 3
   },
   "file_extension": ".py",
   "mimetype": "text/x-python",
   "name": "python",
   "nbconvert_exporter": "python",
   "pygments_lexer": "ipython3",
   "version": "3.7.0"
  }
 },
 "nbformat": 4,
 "nbformat_minor": 2
}
