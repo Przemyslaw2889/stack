{
 "cells": [
  {
   "cell_type": "markdown",
   "metadata": {},
   "source": [
    "# Wykresiki"
   ]
  },
  {
   "cell_type": "code",
   "execution_count": 2,
   "metadata": {},
   "outputs": [],
   "source": [
    "import pandas as pd\n",
    "import numpy as np\n",
    "import matplotlib.pyplot as plt\n",
    "import os"
   ]
  },
  {
   "cell_type": "code",
   "execution_count": 3,
   "metadata": {},
   "outputs": [],
   "source": [
    "def load_scifi_table(table_name):\n",
    "    scifi_path = os.path.join(\"data\", \"scifi.stackexchange.com\")\n",
    "    return pd.read_csv(os.path.join(scifi_path, table_name + \".csv\"))"
   ]
  },
  {
   "cell_type": "code",
   "execution_count": 4,
   "metadata": {},
   "outputs": [],
   "source": [
    "Posts = load_scifi_table(\"Posts\")\n",
    "Tags = load_scifi_table(\"Tags\")"
   ]
  },
  {
   "cell_type": "code",
   "execution_count": 5,
   "metadata": {},
   "outputs": [
    {
     "data": {
      "text/plain": [
       "0                                      [<novel, languages>]\n",
       "1                                       [<vorkosigan-saga>]\n",
       "2                                     [<total-recall-2070>]\n",
       "3                                                       NaN\n",
       "4                                                       NaN\n",
       "5                             [<star-trek, star-trek-2009>]\n",
       "6                                              [<the-road>]\n",
       "7                              [<movie, tv, philip-k-dick>]\n",
       "8                                                       NaN\n",
       "9                                                       NaN\n",
       "10                            [<star-trek, uss-enterprise>]\n",
       "11                                                      NaN\n",
       "12                                             [<the-road>]\n",
       "13                                           [<twin-peaks>]\n",
       "14                                                      NaN\n",
       "15                                                      NaN\n",
       "16        [<star-trek, canon, star-trek-2009, gene-rodde...\n",
       "17                                          [<pioneer-one>]\n",
       "18                                                      NaN\n",
       "19        [<novel, isaac-asimov, foundation, chronologic...\n",
       "20                                                      NaN\n",
       "21                                          [<fan-fiction>]\n",
       "22                                                      NaN\n",
       "23                  [<movie, science-fiction-genre, props>]\n",
       "24                                        [<philip-k-dick>]\n",
       "25                     [<star-trek, canon, star-trek-data>]\n",
       "26                                    [<literary-analysis>]\n",
       "27                                                      NaN\n",
       "28                                                      NaN\n",
       "29                                                      NaN\n",
       "                                ...                        \n",
       "154589                                                  NaN\n",
       "154590                                                  NaN\n",
       "154591                                                  NaN\n",
       "154592                                                  NaN\n",
       "154593                                                  NaN\n",
       "154594                                                  NaN\n",
       "154595                      [<story-identification, anime>]\n",
       "154596                                                  NaN\n",
       "154597                                                  NaN\n",
       "154598                                                  NaN\n",
       "154599                                                  NaN\n",
       "154600                                                  NaN\n",
       "154601                                         [<blakes-7>]\n",
       "154602    [<harry-potter, fantastic-beasts, the-crimes-o...\n",
       "154603                                                  NaN\n",
       "154604                      [<story-identification, movie>]\n",
       "154605                                                  NaN\n",
       "154606                                [<time-travel, time>]\n",
       "154607                                                  NaN\n",
       "154608                [<story-identification, music-video>]\n",
       "154609                         [<star-wars, the-last-jedi>]\n",
       "154610                                                  NaN\n",
       "154611                                     [<harry-potter>]\n",
       "154612                                                  NaN\n",
       "154613                                                  NaN\n",
       "154614    [<star-wars, the-clone-wars, attack-of-the-clo...\n",
       "154615                    [<borg, star-trek-first-contact>]\n",
       "154616                                                  NaN\n",
       "154617                             [<harry-potter, spells>]\n",
       "154618                                                  NaN\n",
       "Name: Tags, Length: 154619, dtype: object"
      ]
     },
     "execution_count": 5,
     "metadata": {},
     "output_type": "execute_result"
    }
   ],
   "source": [
    "Posts.Tags.str.split('><')"
   ]
  },
  {
   "cell_type": "code",
   "execution_count": 6,
   "metadata": {},
   "outputs": [
    {
     "data": {
      "text/html": [
       "<div>\n",
       "<style scoped>\n",
       "    .dataframe tbody tr th:only-of-type {\n",
       "        vertical-align: middle;\n",
       "    }\n",
       "\n",
       "    .dataframe tbody tr th {\n",
       "        vertical-align: top;\n",
       "    }\n",
       "\n",
       "    .dataframe thead th {\n",
       "        text-align: right;\n",
       "    }\n",
       "</style>\n",
       "<table border=\"1\" class=\"dataframe\">\n",
       "  <thead>\n",
       "    <tr style=\"text-align: right;\">\n",
       "      <th></th>\n",
       "      <th>Unnamed: 0</th>\n",
       "      <th>Count</th>\n",
       "      <th>ExcerptPostId</th>\n",
       "      <th>Id</th>\n",
       "      <th>TagName</th>\n",
       "      <th>WikiPostId</th>\n",
       "    </tr>\n",
       "  </thead>\n",
       "  <tbody>\n",
       "    <tr>\n",
       "      <th>0</th>\n",
       "      <td>0</td>\n",
       "      <td>225</td>\n",
       "      <td>1813.0</td>\n",
       "      <td>2</td>\n",
       "      <td>languages</td>\n",
       "      <td>1812.0</td>\n",
       "    </tr>\n",
       "    <tr>\n",
       "      <th>1</th>\n",
       "      <td>1</td>\n",
       "      <td>285</td>\n",
       "      <td>2478.0</td>\n",
       "      <td>7</td>\n",
       "      <td>robots</td>\n",
       "      <td>2477.0</td>\n",
       "    </tr>\n",
       "    <tr>\n",
       "      <th>2</th>\n",
       "      <td>2</td>\n",
       "      <td>4319</td>\n",
       "      <td>1776.0</td>\n",
       "      <td>10</td>\n",
       "      <td>star-trek</td>\n",
       "      <td>1775.0</td>\n",
       "    </tr>\n",
       "    <tr>\n",
       "      <th>3</th>\n",
       "      <td>3</td>\n",
       "      <td>7</td>\n",
       "      <td>3098.0</td>\n",
       "      <td>11</td>\n",
       "      <td>prediction</td>\n",
       "      <td>3097.0</td>\n",
       "    </tr>\n",
       "    <tr>\n",
       "      <th>4</th>\n",
       "      <td>4</td>\n",
       "      <td>281</td>\n",
       "      <td>2548.0</td>\n",
       "      <td>12</td>\n",
       "      <td>technology</td>\n",
       "      <td>2547.0</td>\n",
       "    </tr>\n",
       "  </tbody>\n",
       "</table>\n",
       "</div>"
      ],
      "text/plain": [
       "   Unnamed: 0  Count  ExcerptPostId  Id     TagName  WikiPostId\n",
       "0           0    225         1813.0   2   languages      1812.0\n",
       "1           1    285         2478.0   7      robots      2477.0\n",
       "2           2   4319         1776.0  10   star-trek      1775.0\n",
       "3           3      7         3098.0  11  prediction      3097.0\n",
       "4           4    281         2548.0  12  technology      2547.0"
      ]
     },
     "execution_count": 6,
     "metadata": {},
     "output_type": "execute_result"
    }
   ],
   "source": [
    "Tags.head()"
   ]
  },
  {
   "cell_type": "code",
   "execution_count": 7,
   "metadata": {},
   "outputs": [
    {
     "data": {
      "text/html": [
       "<div>\n",
       "<style scoped>\n",
       "    .dataframe tbody tr th:only-of-type {\n",
       "        vertical-align: middle;\n",
       "    }\n",
       "\n",
       "    .dataframe tbody tr th {\n",
       "        vertical-align: top;\n",
       "    }\n",
       "\n",
       "    .dataframe thead th {\n",
       "        text-align: right;\n",
       "    }\n",
       "</style>\n",
       "<table border=\"1\" class=\"dataframe\">\n",
       "  <thead>\n",
       "    <tr style=\"text-align: right;\">\n",
       "      <th></th>\n",
       "      <th>Unnamed: 0</th>\n",
       "      <th>Count</th>\n",
       "      <th>ExcerptPostId</th>\n",
       "      <th>Id</th>\n",
       "      <th>TagName</th>\n",
       "      <th>WikiPostId</th>\n",
       "    </tr>\n",
       "  </thead>\n",
       "  <tbody>\n",
       "    <tr>\n",
       "      <th>47</th>\n",
       "      <td>47</td>\n",
       "      <td>12565</td>\n",
       "      <td>1811.0</td>\n",
       "      <td>130</td>\n",
       "      <td>story-identification</td>\n",
       "      <td>1810.0</td>\n",
       "    </tr>\n",
       "    <tr>\n",
       "      <th>168</th>\n",
       "      <td>168</td>\n",
       "      <td>5694</td>\n",
       "      <td>2679.0</td>\n",
       "      <td>533</td>\n",
       "      <td>harry-potter</td>\n",
       "      <td>2678.0</td>\n",
       "    </tr>\n",
       "    <tr>\n",
       "      <th>21</th>\n",
       "      <td>21</td>\n",
       "      <td>5305</td>\n",
       "      <td>1970.0</td>\n",
       "      <td>44</td>\n",
       "      <td>star-wars</td>\n",
       "      <td>1969.0</td>\n",
       "    </tr>\n",
       "    <tr>\n",
       "      <th>2</th>\n",
       "      <td>2</td>\n",
       "      <td>4319</td>\n",
       "      <td>1776.0</td>\n",
       "      <td>10</td>\n",
       "      <td>star-trek</td>\n",
       "      <td>1775.0</td>\n",
       "    </tr>\n",
       "    <tr>\n",
       "      <th>225</th>\n",
       "      <td>225</td>\n",
       "      <td>3352</td>\n",
       "      <td>4872.0</td>\n",
       "      <td>695</td>\n",
       "      <td>marvel</td>\n",
       "      <td>4871.0</td>\n",
       "    </tr>\n",
       "  </tbody>\n",
       "</table>\n",
       "</div>"
      ],
      "text/plain": [
       "     Unnamed: 0  Count  ExcerptPostId   Id               TagName  WikiPostId\n",
       "47           47  12565         1811.0  130  story-identification      1810.0\n",
       "168         168   5694         2679.0  533          harry-potter      2678.0\n",
       "21           21   5305         1970.0   44             star-wars      1969.0\n",
       "2             2   4319         1776.0   10             star-trek      1775.0\n",
       "225         225   3352         4872.0  695                marvel      4871.0"
      ]
     },
     "execution_count": 7,
     "metadata": {},
     "output_type": "execute_result"
    }
   ],
   "source": [
    "Tags_ordered = Tags.sort_values(\"Count\", ascending=False)\n",
    "Tags_ordered.head()"
   ]
  },
  {
   "cell_type": "code",
   "execution_count": 96,
   "metadata": {},
   "outputs": [
    {
     "data": {
      "text/plain": [
       "<BarContainer object of 10 artists>"
      ]
     },
     "execution_count": 96,
     "metadata": {},
     "output_type": "execute_result"
    },
    {
     "data": {
      "image/png": "[encoded data removed]",
      "text/plain": [
       "<Figure size 432x288 with 1 Axes>"
      ]
     },
     "metadata": {},
     "output_type": "display_data"
    }
   ],
   "source": [
    "plt.bar(Tags_ordered.TagName[:10], Tags_ordered.Count[:10], align='edge')"
   ]
  },
  {
   "cell_type": "markdown",
   "metadata": {},
   "source": [
    "https://scifi.stackexchange.com/questions/tagged/story-identification\n",
    "\n",
    "Tag story-identification oznacza, że pytanie jest o jakiś film/książkę, o którym autor pytania coś pamięta, ale nie potrafi sobie przypomnić tyułu."
   ]
  },
  {
   "cell_type": "code",
   "execution_count": 9,
   "metadata": {},
   "outputs": [],
   "source": [
    "Tags_list = Posts.Tags.str.split(\"><\")"
   ]
  },
  {
   "cell_type": "code",
   "execution_count": 10,
   "metadata": {},
   "outputs": [
    {
     "data": {
      "text/plain": [
       "0     [novel, languages]\n",
       "1      [vorkosigan-saga]\n",
       "2    [total-recall-2070]\n",
       "3                    NaN\n",
       "4                    NaN\n",
       "Name: Tags, dtype: object"
      ]
     },
     "execution_count": 10,
     "metadata": {},
     "output_type": "execute_result"
    }
   ],
   "source": [
    "Tags_list = Tags_list.map(lambda x: [tag.replace(\"<\", \"\").replace(\">\", \"\") for tag in x], na_action='ignore')\n",
    "Tags_list.head()"
   ]
  },
  {
   "cell_type": "code",
   "execution_count": 18,
   "metadata": {},
   "outputs": [],
   "source": [
    "sf_story_index = Posts.loc[:,\"Tags\"].str.contains(\"story-identification\").rename(\"story_identification\")\\\n",
    ".reset_index().query(\"story_identification == True\").loc[:,\"index\"]\n",
    "\n",
    "Tags_story_identification = Tags_list.loc[sf_story_index]"
   ]
  },
  {
   "cell_type": "code",
   "execution_count": 19,
   "metadata": {},
   "outputs": [
    {
     "data": {
      "text/plain": [
       "92                                   [story-identification]\n",
       "95                            [novel, story-identification]\n",
       "148                       [languages, story-identification]\n",
       "166          [story-identification, aliens, space, warfare]\n",
       "233                                  [story-identification]\n",
       "286                    [story-identification, isaac-asimov]\n",
       "302       [story-identification, novel, technology, spac...\n",
       "377                 [story-identification, generation-ship]\n",
       "379                    [story-identification, ray-bradbury]\n",
       "487       [story-identification, aliens, short-stories, ...\n",
       "508                   [story-identification, short-stories]\n",
       "576       [story-identification, aliens, alien-invasion,...\n",
       "588                                  [story-identification]\n",
       "593                           [movie, story-identification]\n",
       "656           [story-identification, dystopia, young-adult]\n",
       "693                           [story-identification, novel]\n",
       "739                [story-identification, aliens, religion]\n",
       "751       [story-identification, novel, aliens, young-ad...\n",
       "775            [story-identification, urban-fantasy, magic]\n",
       "784       [story-identification, science, quotes, space-...\n",
       "791       [story-identification, hard-sci-fi, online-res...\n",
       "834                     [story-identification, time-travel]\n",
       "836                          [story-identification, aliens]\n",
       "855                   [story-identification, short-stories]\n",
       "908       [story-identification, hard-sci-fi, communicat...\n",
       "911                           [story-identification, books]\n",
       "925       [story-identification, andre-norton, witch-world]\n",
       "994                [story-identification, steampunk, novel]\n",
       "1000               [story-identification, steampunk, novel]\n",
       "1012                          [story-identification, magic]\n",
       "                                ...                        \n",
       "154356                [story-identification, short-stories]\n",
       "154359         [story-identification, short-stories, space]\n",
       "154378                 [story-identification, novel, space]\n",
       "154404    [story-identification, harry-potter, fan-ficti...\n",
       "154409                           [story-identification, tv]\n",
       "154410                [story-identification, short-stories]\n",
       "154418    [story-identification, short-stories, technology]\n",
       "154422                        [story-identification, books]\n",
       "154439                        [story-identification, books]\n",
       "154444    [story-identification, short-stories, space-co...\n",
       "154450                               [story-identification]\n",
       "154455                 [story-identification, novel, books]\n",
       "154457    [story-identification, hard-sci-fi, physics, r...\n",
       "154465    [story-identification, books, aliens, alien-ab...\n",
       "154481                           [story-identification, tv]\n",
       "154483                        [story-identification, movie]\n",
       "154491                       [story-identification, clones]\n",
       "154492                        [story-identification, books]\n",
       "154498                               [story-identification]\n",
       "154504                               [story-identification]\n",
       "154525           [story-identification, books, time-travel]\n",
       "154534                  [story-identification, time-travel]\n",
       "154552                        [story-identification, movie]\n",
       "154564                           [story-identification, tv]\n",
       "154578                        [story-identification, movie]\n",
       "154579                [story-identification, short-stories]\n",
       "154582           [story-identification, books, soft-sci-fi]\n",
       "154595                        [story-identification, anime]\n",
       "154604                        [story-identification, movie]\n",
       "154608                  [story-identification, music-video]\n",
       "Name: Tags, Length: 12565, dtype: object"
      ]
     },
     "execution_count": 19,
     "metadata": {},
     "output_type": "execute_result"
    }
   ],
   "source": [
    "Tags_story_identification"
   ]
  },
  {
   "cell_type": "code",
   "execution_count": 26,
   "metadata": {},
   "outputs": [
    {
     "data": {
      "text/plain": [
       "\"<p>I remember reading what I believe is a short story about a brother and sister who somehow come into possession of some toys which turn out to be from aliens. Through playing with them they develop a language their parents can't understand and start to develop mentally far faster than any human.  </p>\\n\\n<p>Does anyone recognize this story, or remember who wrote it or what it's called?  </p>\\n\""
      ]
     },
     "execution_count": 26,
     "metadata": {},
     "output_type": "execute_result"
    }
   ],
   "source": [
    "Posts.loc[148,].Body"
   ]
  },
  {
   "cell_type": "markdown",
   "metadata": {},
   "source": [
    "Chcemy sprawdzić ile pytań o story identification jest o film a ile o książkę."
   ]
  },
  {
   "cell_type": "code",
   "execution_count": 67,
   "metadata": {},
   "outputs": [],
   "source": [
    "reading = {\"book\", \"novel\"}\n",
    "movies = {\"movie\", \"tv\", \"video\"}"
   ]
  },
  {
   "cell_type": "code",
   "execution_count": 68,
   "metadata": {},
   "outputs": [],
   "source": [
    "is_reading = Posts.loc[sf_story_index, \"Tags\"].map(lambda x: any(tag in x for tag in reading), na_action='ignore')\n",
    "is_movies = Posts.loc[sf_story_index, \"Tags\"].map(lambda x: any(tag in x for tag in movies), na_action='ignore')"
   ]
  },
  {
   "cell_type": "code",
   "execution_count": 69,
   "metadata": {},
   "outputs": [
    {
     "data": {
      "text/plain": [
       "2521"
      ]
     },
     "execution_count": 69,
     "metadata": {},
     "output_type": "execute_result"
    }
   ],
   "source": [
    "is_reading.sum()"
   ]
  },
  {
   "cell_type": "code",
   "execution_count": 70,
   "metadata": {},
   "outputs": [
    {
     "data": {
      "text/plain": [
       "1406"
      ]
     },
     "execution_count": 70,
     "metadata": {},
     "output_type": "execute_result"
    }
   ],
   "source": [
    "is_movies.sum()"
   ]
  },
  {
   "cell_type": "code",
   "execution_count": 71,
   "metadata": {},
   "outputs": [
    {
     "data": {
      "text/plain": [
       "<BarContainer object of 2 artists>"
      ]
     },
     "execution_count": 71,
     "metadata": {},
     "output_type": "execute_result"
    },
    {
     "data": {
      "image/png": "[encoded data removed]",
      "text/plain": [
       "<Figure size 432x288 with 1 Axes>"
      ]
     },
     "metadata": {},
     "output_type": "display_data"
    }
   ],
   "source": [
    "plt.bar([\"movies\", \"book\"], [is_movies.sum(), is_reading.sum()])"
   ]
  },
  {
   "cell_type": "markdown",
   "metadata": {},
   "source": [
    "Dorysujemy na czerwono "
   ]
  },
  {
   "cell_type": "code",
   "execution_count": 72,
   "metadata": {},
   "outputs": [
    {
     "data": {
      "text/plain": [
       "0.08126426894495502"
      ]
     },
     "execution_count": 72,
     "metadata": {},
     "output_type": "execute_result"
    }
   ],
   "source": [
    "len(sf_story_index)/len(Posts)"
   ]
  },
  {
   "cell_type": "code",
   "execution_count": 75,
   "metadata": {},
   "outputs": [
    {
     "data": {
      "text/plain": [
       "0.3125348189415042"
      ]
     },
     "execution_count": 75,
     "metadata": {},
     "output_type": "execute_result"
    }
   ],
   "source": [
    "(is_reading.sum() + is_movies.sum()) / len(sf_story_index)"
   ]
  },
  {
   "cell_type": "markdown",
   "metadata": {},
   "source": [
    "Okazuje się, że pominęliśmy większość postów ze story-identification. Żeby osiągnąć bardziej wiarygodne wyniki przydałoby się przeglądać tytuły postów, albo nawet ich treść."
   ]
  },
  {
   "cell_type": "code",
   "execution_count": 76,
   "metadata": {},
   "outputs": [],
   "source": [
    "is_reading = Posts.loc[sf_story_index, \"Tags\"].map(lambda x: any(tag in x for tag in reading), na_action='ignore')\n",
    "is_movies = Posts.loc[sf_story_index, \"Tags\"].map(lambda x: any(tag in x for tag in movies), na_action='ignore')"
   ]
  },
  {
   "cell_type": "code",
   "execution_count": 78,
   "metadata": {},
   "outputs": [],
   "source": [
    "story_Posts = Posts.loc[sf_story_index]"
   ]
  },
  {
   "cell_type": "code",
   "execution_count": 90,
   "metadata": {},
   "outputs": [],
   "source": [
    "# Story Identification questions with title contatining reading words\n",
    "reading_title_story = story_Posts.loc[story_Posts.Title.map(lambda x: any(tag in x for tag in reading))]\n",
    "\n",
    "# Story Identification questions with title contatining movies words\n",
    "movies_title_story = story_Posts.loc[story_Posts.Title.map(lambda x: any(tag in x for tag in movies))]"
   ]
  },
  {
   "cell_type": "code",
   "execution_count": 91,
   "metadata": {},
   "outputs": [
    {
     "data": {
      "text/plain": [
       "(2922, 1006)"
      ]
     },
     "execution_count": 91,
     "metadata": {},
     "output_type": "execute_result"
    }
   ],
   "source": [
    "len(reading_title_story), len(movies_title_story)"
   ]
  },
  {
   "cell_type": "code",
   "execution_count": 88,
   "metadata": {},
   "outputs": [],
   "source": [
    "# Story Identification questions with Body contatining reading words\n",
    "reading_body_story = story_Posts.loc[story_Posts.Body.map(lambda x: any(tag in x for tag in reading))]\n",
    "\n",
    "# Story Identification questions with Body contatining movies words\n",
    "movies_body_story = story_Posts.loc[story_Posts.Body.map(lambda x: any(tag in x for tag in movies))]"
   ]
  },
  {
   "cell_type": "code",
   "execution_count": 89,
   "metadata": {},
   "outputs": [
    {
     "data": {
      "text/plain": [
       "(6037, 1765)"
      ]
     },
     "execution_count": 89,
     "metadata": {},
     "output_type": "execute_result"
    }
   ],
   "source": [
    "len(reading_body_story), len(movies_body_story)"
   ]
  },
  {
   "cell_type": "markdown",
   "metadata": {},
   "source": [
    "Mamy już pewność, że pytania o ksiązki są częściej zadawane (TODO: można zastanowić się czy słowa które napisaliśmy sa wystarczająco wyczerpujące). Teraz zastanówmy się na ile procent użytkownicy znajdują odpowiedzi w zależności od tego czy pytają o książki czy o filmy."
   ]
  },
  {
   "cell_type": "code",
   "execution_count": 94,
   "metadata": {},
   "outputs": [
    {
     "data": {
      "text/plain": [
       "0.39664613278576316"
      ]
     },
     "execution_count": 94,
     "metadata": {},
     "output_type": "execute_result"
    }
   ],
   "source": [
    "len(reading_title_story[reading_title_story.AcceptedAnswerId.notnull()]) / len(reading_title_story)"
   ]
  },
  {
   "cell_type": "code",
   "execution_count": 95,
   "metadata": {},
   "outputs": [
    {
     "data": {
      "text/plain": [
       "0.4254473161033797"
      ]
     },
     "execution_count": 95,
     "metadata": {},
     "output_type": "execute_result"
    }
   ],
   "source": [
    "len(movies_title_story[movies_title_story.AcceptedAnswerId.notnull()]) / len(movies_title_story)"
   ]
  },
  {
   "cell_type": "code",
   "execution_count": null,
   "metadata": {},
   "outputs": [],
   "source": []
  }
 ],
 "metadata": {
  "kernelspec": {
   "display_name": "Python 3",
   "language": "python",
   "name": "python3"
  },
  "language_info": {
   "codemirror_mode": {
    "name": "ipython",
    "version": 3
   },
   "file_extension": ".py",
   "mimetype": "text/x-python",
   "name": "python",
   "nbconvert_exporter": "python",
   "pygments_lexer": "ipython3",
   "version": "3.6.4"
  }
 },
 "nbformat": 4,
 "nbformat_minor": 2
}
